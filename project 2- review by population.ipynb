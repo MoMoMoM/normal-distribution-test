{
 "cells": [
  {
   "cell_type": "code",
   "execution_count": 207,
   "metadata": {
    "collapsed": true
   },
   "outputs": [],
   "source": [
    "#import httplib2\n",
    "#from StringIO import StringIO\n",
    "#from apiclient.discovery import build\n",
    "#import urllib\n",
    "import json\n",
    "#import csv\n",
    "#import matplotlib.pyplot as plt\n",
    "#import numpy as np\n",
    "#import numpy.ma as ma\n",
    "#from scipy.stats import mstats\n",
    "#import scipy.stats\n",
    "#from sklearn.naive_bayes import GaussianNB\n",
    "#from sklearn import tree\n",
    "#from sklearn import cross_validation\n",
    "#from sklearn import preprocessing\n",
    "#from sklearn import metrics\n",
    "#from sklearn.dummy import DummyClassifier"
   ]
  },
  {
   "cell_type": "code",
   "execution_count": 208,
   "metadata": {
    "collapsed": false
   },
   "outputs": [],
   "source": [
    "fp = open(\"data/pizza_B.json\")\n",
    "pizza_B = json.load(fp)\n",
    "pizza=pizza_B[\"pizza\"]\n",
    "#change the key, then we can get different data tested.\n",
    "key=\"reviews_by_pop\""
   ]
  },
  {
   "cell_type": "code",
   "execution_count": 209,
   "metadata": {
    "collapsed": false
   },
   "outputs": [],
   "source": [
    "#getting city and review_by_population\n",
    "review_by_p={}\n",
    "for state in pizza:\n",
    "    for i in state:\n",
    "        n=state[i]['city']\n",
    "        review_by_p[n]=n=state[i][key]\n",
    "a=review_by_p.values()"
   ]
  },
  {
   "cell_type": "markdown",
   "metadata": {},
   "source": [
    "# see if the data is normal distributed"
   ]
  },
  {
   "cell_type": "code",
   "execution_count": 210,
   "metadata": {
    "collapsed": false
   },
   "outputs": [
    {
     "name": "stdout",
     "output_type": "stream",
     "text": [
      "Not normal distribution\n"
     ]
    }
   ],
   "source": [
    "import numpy as np\n",
    "import numpy.ma as ma\n",
    "from scipy.stats import mstats\n",
    "x = np.array(a)#The array needs to be larger than 20, just an example\n",
    "n=len(a)\n",
    "mask=[]\n",
    "for i in range(0,n):\n",
    "    if i==n/2:\n",
    "        mask.append(1.0000000)\n",
    "    else:\n",
    "        mask.append(0.0000000)\n",
    "mx = ma.masked_array(x, mask)\n",
    "z,pval = mstats.normaltest(mx)\n",
    "\n",
    "if(pval < 0.055):\n",
    "    print \"Not normal distribution\"\n",
    "else:\n",
    "    print \"normal distribution\""
   ]
  },
  {
   "cell_type": "code",
   "execution_count": null,
   "metadata": {
    "collapsed": false
   },
   "outputs": [],
   "source": [
    "import matplotlib.pyplot as plt\n",
    "plt.hist(a)\n",
    "plt.show()"
   ]
  },
  {
   "cell_type": "markdown",
   "metadata": {},
   "source": [
    "#by changing key, I run the code with different data:     \"review_count\",\"rating\",\"reviews_by_pop\",\"restaurant_count\", \"population\". \n",
    "\n",
    "#only \"rating\" and \"restaurant_count\" is normal distributed."
   ]
  }
 ],
 "metadata": {
  "kernelspec": {
   "display_name": "Python 2",
   "language": "python",
   "name": "python2"
  },
  "language_info": {
   "codemirror_mode": {
    "name": "ipython",
    "version": 2
   },
   "file_extension": ".py",
   "mimetype": "text/x-python",
   "name": "python",
   "nbconvert_exporter": "python",
   "pygments_lexer": "ipython2",
   "version": "2.7.8"
  }
 },
 "nbformat": 4,
 "nbformat_minor": 0
}
